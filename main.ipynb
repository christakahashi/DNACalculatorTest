{
 "cells": [
  {
   "cell_type": "code",
   "execution_count": 1,
   "metadata": {},
   "outputs": [],
   "source": [
    "import numpy as np\n",
    "import matplotlib.pyplot as plt\n",
    "from ipywidgets import interact,FloatLogSlider, IntSlider\n",
    "plt.rcParams['text.usetex'] = True\n",
    "from scipy.special import binom, betainc\n",
    "from scipy import optimize"
   ]
  },
  {
   "cell_type": "code",
   "execution_count": 2,
   "metadata": {},
   "outputs": [],
   "source": [
    "def P_err_SB(t,lam,C,N):\n",
    "    Psb = 1-np.exp(-lam*t)\n",
    "    Pseqdel = np.power(Psb,C)\n",
    "    return 1 - np.power((1-Pseqdel),N)"
   ]
  },
  {
   "cell_type": "code",
   "execution_count": 3,
   "metadata": {},
   "outputs": [
    {
     "data": {
      "application/vnd.jupyter.widget-view+json": {
       "model_id": "7464b636236f42a1934e1bf076a4f9d6",
       "version_major": 2,
       "version_minor": 0
      },
      "text/plain": [
       "interactive(children=(FloatLogSlider(value=150.0, description='lambda', max=3.0, min=-1.0, step=0.043), IntSli…"
      ]
     },
     "metadata": {},
     "output_type": "display_data"
    }
   ],
   "source": [
    "def plt_P_err_SB(lam:float,seq_len:int,C:int,N:int):\n",
    "    N = np.round(N)\n",
    "    lam = lam/seq_len\n",
    "    t = np.linspace(0,10,1000)\n",
    "    p =  P_err_SB(t,lam,C,N)\n",
    "    plt.plot(t,p)\n",
    "    plt.xlabel('Time')\n",
    "    plt.ylabel('P(sequence loss)')\n",
    "    plt.title('time to data loss')\n",
    "    plt.xlim(0,3)\n",
    "    \n",
    "Nfs = FloatLogSlider(value=10, base=10, min=0, max=4, step=0.2, description=\"No. of seq.\")\n",
    "Cfs = FloatLogSlider(value=10, base=10, min=-1, max=4, step=0.2, description=\"copynumber\")\n",
    "lslider = FloatLogSlider(value=150, base=10, min=-1, max=3, step=0.043, description=\"lambda\")\n",
    "slslider = IntSlider(value=150, min=100, max=300, step=1, description=\"Seq. Len. (nt)\")\n",
    "\n",
    "interact(plt_P_err_SB,lam=lslider,seq_len=slslider,C=Cfs,N=Nfs);"
   ]
  }
 ],
 "metadata": {
  "kernelspec": {
   "display_name": "DNAcalculator",
   "language": "python",
   "name": "python3"
  },
  "language_info": {
   "codemirror_mode": {
    "name": "ipython",
    "version": 3
   },
   "file_extension": ".py",
   "mimetype": "text/x-python",
   "name": "python",
   "nbconvert_exporter": "python",
   "pygments_lexer": "ipython3",
   "version": "3.13.1"
  }
 },
 "nbformat": 4,
 "nbformat_minor": 2
}
